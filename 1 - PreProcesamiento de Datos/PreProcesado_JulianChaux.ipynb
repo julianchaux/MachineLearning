{
  "nbformat": 4,
  "nbformat_minor": 0,
  "metadata": {
    "colab": {
      "name": "PreProcesado_JulianChaux.ipynb",
      "provenance": [],
      "collapsed_sections": [],
      "authorship_tag": "ABX9TyML1XcY4vZ4fTVGd6s0L4Kt",
      "include_colab_link": true
    },
    "kernelspec": {
      "name": "python3",
      "display_name": "Python 3"
    },
    "language_info": {
      "name": "python"
    }
  },
  "cells": [
    {
      "cell_type": "markdown",
      "metadata": {
        "id": "view-in-github",
        "colab_type": "text"
      },
      "source": [
        "<a href=\"https://colab.research.google.com/github/julianchaux/MachineLearning/blob/master/PreProcesado_JulianChaux.ipynb\" target=\"_parent\"><img src=\"https://colab.research.google.com/assets/colab-badge.svg\" alt=\"Open In Colab\"/></a>"
      ]
    },
    {
      "cell_type": "markdown",
      "metadata": {
        "id": "jS8nOfRWLBRu"
      },
      "source": [
        "# Clonamos el repositorio para obtener los dataSet"
      ]
    },
    {
      "cell_type": "code",
      "metadata": {
        "colab": {
          "base_uri": "https://localhost:8080/"
        },
        "id": "BmSevBHhLDXm",
        "outputId": "6fc07a7f-62ac-4175-a2d5-dfe52588da7f"
      },
      "source": [
        "!git clone https://github.com/julianchaux/MachineLearning.git"
      ],
      "execution_count": 1,
      "outputs": [
        {
          "output_type": "stream",
          "text": [
            "Cloning into 'MachineLearning'...\n",
            "remote: Enumerating objects: 11, done.\u001b[K\n",
            "remote: Counting objects: 100% (11/11), done.\u001b[K\n",
            "remote: Compressing objects: 100% (10/10), done.\u001b[K\n",
            "remote: Total 11 (delta 0), reused 8 (delta 0), pack-reused 0\u001b[K\n",
            "Unpacking objects: 100% (11/11), done.\n"
          ],
          "name": "stdout"
        }
      ]
    },
    {
      "cell_type": "markdown",
      "metadata": {
        "id": "fyyfypkCMN6l"
      },
      "source": [
        "# Revisamos la carpeta"
      ]
    },
    {
      "cell_type": "code",
      "metadata": {
        "colab": {
          "base_uri": "https://localhost:8080/"
        },
        "id": "sngGb1nlMRHD",
        "outputId": "a8b846f7-c4de-4b3f-c276-5e40127bc1c7"
      },
      "source": [
        "!ls '/content/MachineLearning' "
      ],
      "execution_count": 2,
      "outputs": [
        {
          "output_type": "stream",
          "text": [
            "'1 - PreProcesamiento de Datos'\n"
          ],
          "name": "stdout"
        }
      ]
    },
    {
      "cell_type": "markdown",
      "metadata": {
        "id": "dbNrPvwXNzcX"
      },
      "source": [
        "# Plantilla de Pre Procesado - Datos Categóricos"
      ]
    },
    {
      "cell_type": "markdown",
      "metadata": {
        "id": "-39_Mdg2N39o"
      },
      "source": [
        "# Cómo importar las librerías"
      ]
    },
    {
      "cell_type": "code",
      "metadata": {
        "colab": {
          "base_uri": "https://localhost:8080/"
        },
        "id": "4eSQhyknN0jy",
        "outputId": "c568305c-112a-42e1-c58b-92341a02aebf"
      },
      "source": [
        "import numpy as np\n",
        "import matplotlib.pyplot as plt\n",
        "import pandas as pd\n",
        "print(f'La versión de numpy es {np.__version__}')\n",
        "print(f'La versión de pandas es {pd.__version__}')"
      ],
      "execution_count": 3,
      "outputs": [
        {
          "output_type": "stream",
          "text": [
            "La versión de numpy es 1.19.5\n",
            "La versión de pandas es 1.1.5\n"
          ],
          "name": "stdout"
        }
      ]
    },
    {
      "cell_type": "markdown",
      "metadata": {
        "id": "bVqCDshmor9M"
      },
      "source": [
        "# Importar el data set"
      ]
    },
    {
      "cell_type": "code",
      "metadata": {
        "id": "les6DXWCos6W"
      },
      "source": [
        "dataset = pd.read_csv('/content/MachineLearning/1 - PreProcesamiento de Datos/Data.csv')\n",
        "X = dataset.iloc[:, :-1].values\n",
        "y = dataset.iloc[:, 3].values"
      ],
      "execution_count": 12,
      "outputs": []
    },
    {
      "cell_type": "markdown",
      "metadata": {
        "id": "FMKUxYgz_myb"
      },
      "source": [
        "# Tratamiento de los NAs"
      ]
    },
    {
      "cell_type": "code",
      "metadata": {
        "id": "ZyL_JwK9_pyj"
      },
      "source": [
        "from sklearn.impute import SimpleImputer"
      ],
      "execution_count": 13,
      "outputs": []
    },
    {
      "cell_type": "code",
      "metadata": {
        "id": "oN2XzAc2_uyl"
      },
      "source": [
        "imputer = SimpleImputer(missing_values = np.nan, strategy = \"mean\", verbose=0)\n",
        "imputer = imputer.fit(X[:,1:3]) \n",
        "X[:, 1:3] = imputer.transform(X[:,1:3])"
      ],
      "execution_count": 14,
      "outputs": []
    },
    {
      "cell_type": "markdown",
      "metadata": {
        "id": "xS4PiG-G4q2Q"
      },
      "source": [
        "# Codificar datos categóricos"
      ]
    },
    {
      "cell_type": "code",
      "metadata": {
        "id": "Zi9TjJKp4uQ5"
      },
      "source": [
        "from sklearn.preprocessing import LabelEncoder, OneHotEncoder\n",
        "from sklearn.compose import ColumnTransformer"
      ],
      "execution_count": 15,
      "outputs": []
    },
    {
      "cell_type": "code",
      "metadata": {
        "id": "fvucO7QH4xPX"
      },
      "source": [
        "labelencoder_X = LabelEncoder()\n",
        "X[:, 0] = labelencoder_X.fit_transform(X[:, 0])"
      ],
      "execution_count": 16,
      "outputs": []
    },
    {
      "cell_type": "code",
      "metadata": {
        "id": "3NewYW6R40bp"
      },
      "source": [
        "ct = ColumnTransformer(\n",
        "    [('one_hot_encoder', OneHotEncoder(categories='auto'), [0])],    # The column numbers to be transformed (here is [0] but can be [0, 1, 3])\n",
        "    remainder='passthrough'                         # Leave the rest of the columns untouched\n",
        ")"
      ],
      "execution_count": 17,
      "outputs": []
    },
    {
      "cell_type": "markdown",
      "metadata": {
        "id": "lDfZZri25CxE"
      },
      "source": [
        "#onehotencoder = OneHotEncoder(categorical_features=[0])\n",
        "#X = onehotencoder.fit_transform(X).toarray()"
      ]
    },
    {
      "cell_type": "code",
      "metadata": {
        "id": "3r_GwWEO5DuD"
      },
      "source": [
        "X = np.array(ct.fit_transform(X), dtype=np.float)\n",
        "labelencoder_y = LabelEncoder()\n",
        "y = labelencoder_y.fit_transform(y)"
      ],
      "execution_count": 18,
      "outputs": []
    },
    {
      "cell_type": "code",
      "metadata": {
        "colab": {
          "base_uri": "https://localhost:8080/"
        },
        "id": "tjezxXNM5Ggn",
        "outputId": "b3475cf1-d33d-44c8-c9de-159517b88ab5"
      },
      "source": [
        "print(X.shape)"
      ],
      "execution_count": 19,
      "outputs": [
        {
          "output_type": "stream",
          "text": [
            "(10, 5)\n"
          ],
          "name": "stdout"
        }
      ]
    },
    {
      "cell_type": "code",
      "metadata": {
        "colab": {
          "base_uri": "https://localhost:8080/"
        },
        "id": "pwJHbq_R5Joe",
        "outputId": "7c529d46-3f00-4333-ce61-e52d25ea3ee5"
      },
      "source": [
        "print(y)"
      ],
      "execution_count": 20,
      "outputs": [
        {
          "output_type": "stream",
          "text": [
            "[0 1 0 0 1 1 0 1 0 1]\n"
          ],
          "name": "stdout"
        }
      ]
    },
    {
      "cell_type": "code",
      "metadata": {
        "colab": {
          "base_uri": "https://localhost:8080/",
          "height": 359
        },
        "id": "CGdcWxuX_DXH",
        "outputId": "0b43e538-9210-40b5-9f02-5551b58e4ff6"
      },
      "source": [
        "result = pd.DataFrame({'Column1': X[:, 0], 'Column2': X[:, 1],'Column3': X[:, 2], 'Age': X[:, 3],'Salary': X[:, 4],'Purchased': y[:]})\n",
        "display(result)"
      ],
      "execution_count": 21,
      "outputs": [
        {
          "output_type": "display_data",
          "data": {
            "text/html": [
              "<div>\n",
              "<style scoped>\n",
              "    .dataframe tbody tr th:only-of-type {\n",
              "        vertical-align: middle;\n",
              "    }\n",
              "\n",
              "    .dataframe tbody tr th {\n",
              "        vertical-align: top;\n",
              "    }\n",
              "\n",
              "    .dataframe thead th {\n",
              "        text-align: right;\n",
              "    }\n",
              "</style>\n",
              "<table border=\"1\" class=\"dataframe\">\n",
              "  <thead>\n",
              "    <tr style=\"text-align: right;\">\n",
              "      <th></th>\n",
              "      <th>Column1</th>\n",
              "      <th>Column2</th>\n",
              "      <th>Column3</th>\n",
              "      <th>Age</th>\n",
              "      <th>Salary</th>\n",
              "      <th>Purchased</th>\n",
              "    </tr>\n",
              "  </thead>\n",
              "  <tbody>\n",
              "    <tr>\n",
              "      <th>0</th>\n",
              "      <td>1.0</td>\n",
              "      <td>0.0</td>\n",
              "      <td>0.0</td>\n",
              "      <td>44.000000</td>\n",
              "      <td>72000.000000</td>\n",
              "      <td>0</td>\n",
              "    </tr>\n",
              "    <tr>\n",
              "      <th>1</th>\n",
              "      <td>0.0</td>\n",
              "      <td>0.0</td>\n",
              "      <td>1.0</td>\n",
              "      <td>27.000000</td>\n",
              "      <td>48000.000000</td>\n",
              "      <td>1</td>\n",
              "    </tr>\n",
              "    <tr>\n",
              "      <th>2</th>\n",
              "      <td>0.0</td>\n",
              "      <td>1.0</td>\n",
              "      <td>0.0</td>\n",
              "      <td>30.000000</td>\n",
              "      <td>54000.000000</td>\n",
              "      <td>0</td>\n",
              "    </tr>\n",
              "    <tr>\n",
              "      <th>3</th>\n",
              "      <td>0.0</td>\n",
              "      <td>0.0</td>\n",
              "      <td>1.0</td>\n",
              "      <td>38.000000</td>\n",
              "      <td>61000.000000</td>\n",
              "      <td>0</td>\n",
              "    </tr>\n",
              "    <tr>\n",
              "      <th>4</th>\n",
              "      <td>0.0</td>\n",
              "      <td>1.0</td>\n",
              "      <td>0.0</td>\n",
              "      <td>40.000000</td>\n",
              "      <td>63777.777778</td>\n",
              "      <td>1</td>\n",
              "    </tr>\n",
              "    <tr>\n",
              "      <th>5</th>\n",
              "      <td>1.0</td>\n",
              "      <td>0.0</td>\n",
              "      <td>0.0</td>\n",
              "      <td>35.000000</td>\n",
              "      <td>58000.000000</td>\n",
              "      <td>1</td>\n",
              "    </tr>\n",
              "    <tr>\n",
              "      <th>6</th>\n",
              "      <td>0.0</td>\n",
              "      <td>0.0</td>\n",
              "      <td>1.0</td>\n",
              "      <td>38.777778</td>\n",
              "      <td>52000.000000</td>\n",
              "      <td>0</td>\n",
              "    </tr>\n",
              "    <tr>\n",
              "      <th>7</th>\n",
              "      <td>1.0</td>\n",
              "      <td>0.0</td>\n",
              "      <td>0.0</td>\n",
              "      <td>48.000000</td>\n",
              "      <td>79000.000000</td>\n",
              "      <td>1</td>\n",
              "    </tr>\n",
              "    <tr>\n",
              "      <th>8</th>\n",
              "      <td>0.0</td>\n",
              "      <td>1.0</td>\n",
              "      <td>0.0</td>\n",
              "      <td>50.000000</td>\n",
              "      <td>83000.000000</td>\n",
              "      <td>0</td>\n",
              "    </tr>\n",
              "    <tr>\n",
              "      <th>9</th>\n",
              "      <td>1.0</td>\n",
              "      <td>0.0</td>\n",
              "      <td>0.0</td>\n",
              "      <td>37.000000</td>\n",
              "      <td>67000.000000</td>\n",
              "      <td>1</td>\n",
              "    </tr>\n",
              "  </tbody>\n",
              "</table>\n",
              "</div>"
            ],
            "text/plain": [
              "   Column1  Column2  Column3        Age        Salary  Purchased\n",
              "0      1.0      0.0      0.0  44.000000  72000.000000          0\n",
              "1      0.0      0.0      1.0  27.000000  48000.000000          1\n",
              "2      0.0      1.0      0.0  30.000000  54000.000000          0\n",
              "3      0.0      0.0      1.0  38.000000  61000.000000          0\n",
              "4      0.0      1.0      0.0  40.000000  63777.777778          1\n",
              "5      1.0      0.0      0.0  35.000000  58000.000000          1\n",
              "6      0.0      0.0      1.0  38.777778  52000.000000          0\n",
              "7      1.0      0.0      0.0  48.000000  79000.000000          1\n",
              "8      0.0      1.0      0.0  50.000000  83000.000000          0\n",
              "9      1.0      0.0      0.0  37.000000  67000.000000          1"
            ]
          },
          "metadata": {
            "tags": []
          }
        }
      ]
    },
    {
      "cell_type": "markdown",
      "metadata": {
        "id": "k_zJOuS8Erh7"
      },
      "source": [
        "# Dividir el data set en conjunto de entrenamiento y conjunto de testing"
      ]
    },
    {
      "cell_type": "code",
      "metadata": {
        "id": "bXyG0j18EvAI"
      },
      "source": [
        "from sklearn.model_selection import train_test_split"
      ],
      "execution_count": 22,
      "outputs": []
    },
    {
      "cell_type": "code",
      "metadata": {
        "id": "_Y5JyIbCE5TD"
      },
      "source": [
        "X_train, X_test, y_train, y_test = train_test_split(X, y, test_size = 0.2, random_state = 0)"
      ],
      "execution_count": 23,
      "outputs": []
    },
    {
      "cell_type": "markdown",
      "metadata": {
        "id": "pm0Q6oWlMqI-"
      },
      "source": [
        "# Escalado de variables"
      ]
    },
    {
      "cell_type": "code",
      "metadata": {
        "id": "aH7wjlICMqn7"
      },
      "source": [
        "from sklearn.preprocessing import StandardScaler"
      ],
      "execution_count": 24,
      "outputs": []
    },
    {
      "cell_type": "code",
      "metadata": {
        "colab": {
          "base_uri": "https://localhost:8080/"
        },
        "id": "WI62O3OSMzAY",
        "outputId": "c22af562-ea79-47f0-d481-1fe4b7f26d0b"
      },
      "source": [
        "sc_X = StandardScaler()\n",
        "X_train = sc_X.fit_transform(X_train)\n",
        "X_test = sc_X.transform(X_test)\n",
        "print(X_train.shape)\n",
        "print(X_test.shape)"
      ],
      "execution_count": 25,
      "outputs": [
        {
          "output_type": "stream",
          "text": [
            "(8, 5)\n",
            "(2, 5)\n"
          ],
          "name": "stdout"
        }
      ]
    },
    {
      "cell_type": "code",
      "metadata": {
        "id": "m-w2odZsNCK4"
      },
      "source": [
        "result_Xtrain = pd.DataFrame({'Column1': X_train[:, 0], 'Column2': X_train[:, 1],'Column3': X_train[:, 2], 'Column4': X_train[:, 3],'Column5': X_train[:, 4]})"
      ],
      "execution_count": 26,
      "outputs": []
    },
    {
      "cell_type": "code",
      "metadata": {
        "colab": {
          "base_uri": "https://localhost:8080/",
          "height": 297
        },
        "id": "o7LOOss8NDRi",
        "outputId": "401909e1-2c93-4429-b9f5-061b0c65761a"
      },
      "source": [
        "display(result_Xtrain)"
      ],
      "execution_count": 27,
      "outputs": [
        {
          "output_type": "display_data",
          "data": {
            "text/html": [
              "<div>\n",
              "<style scoped>\n",
              "    .dataframe tbody tr th:only-of-type {\n",
              "        vertical-align: middle;\n",
              "    }\n",
              "\n",
              "    .dataframe tbody tr th {\n",
              "        vertical-align: top;\n",
              "    }\n",
              "\n",
              "    .dataframe thead th {\n",
              "        text-align: right;\n",
              "    }\n",
              "</style>\n",
              "<table border=\"1\" class=\"dataframe\">\n",
              "  <thead>\n",
              "    <tr style=\"text-align: right;\">\n",
              "      <th></th>\n",
              "      <th>Column1</th>\n",
              "      <th>Column2</th>\n",
              "      <th>Column3</th>\n",
              "      <th>Column4</th>\n",
              "      <th>Column5</th>\n",
              "    </tr>\n",
              "  </thead>\n",
              "  <tbody>\n",
              "    <tr>\n",
              "      <th>0</th>\n",
              "      <td>-1.0</td>\n",
              "      <td>2.645751</td>\n",
              "      <td>-0.774597</td>\n",
              "      <td>0.263068</td>\n",
              "      <td>0.123815</td>\n",
              "    </tr>\n",
              "    <tr>\n",
              "      <th>1</th>\n",
              "      <td>1.0</td>\n",
              "      <td>-0.377964</td>\n",
              "      <td>-0.774597</td>\n",
              "      <td>-0.253501</td>\n",
              "      <td>0.461756</td>\n",
              "    </tr>\n",
              "    <tr>\n",
              "      <th>2</th>\n",
              "      <td>-1.0</td>\n",
              "      <td>-0.377964</td>\n",
              "      <td>1.290994</td>\n",
              "      <td>-1.975398</td>\n",
              "      <td>-1.530933</td>\n",
              "    </tr>\n",
              "    <tr>\n",
              "      <th>3</th>\n",
              "      <td>-1.0</td>\n",
              "      <td>-0.377964</td>\n",
              "      <td>1.290994</td>\n",
              "      <td>0.052614</td>\n",
              "      <td>-1.111420</td>\n",
              "    </tr>\n",
              "    <tr>\n",
              "      <th>4</th>\n",
              "      <td>1.0</td>\n",
              "      <td>-0.377964</td>\n",
              "      <td>-0.774597</td>\n",
              "      <td>1.640585</td>\n",
              "      <td>1.720297</td>\n",
              "    </tr>\n",
              "    <tr>\n",
              "      <th>5</th>\n",
              "      <td>-1.0</td>\n",
              "      <td>-0.377964</td>\n",
              "      <td>1.290994</td>\n",
              "      <td>-0.081312</td>\n",
              "      <td>-0.167514</td>\n",
              "    </tr>\n",
              "    <tr>\n",
              "      <th>6</th>\n",
              "      <td>1.0</td>\n",
              "      <td>-0.377964</td>\n",
              "      <td>-0.774597</td>\n",
              "      <td>0.951826</td>\n",
              "      <td>0.986148</td>\n",
              "    </tr>\n",
              "    <tr>\n",
              "      <th>7</th>\n",
              "      <td>1.0</td>\n",
              "      <td>-0.377964</td>\n",
              "      <td>-0.774597</td>\n",
              "      <td>-0.597881</td>\n",
              "      <td>-0.482149</td>\n",
              "    </tr>\n",
              "  </tbody>\n",
              "</table>\n",
              "</div>"
            ],
            "text/plain": [
              "   Column1   Column2   Column3   Column4   Column5\n",
              "0     -1.0  2.645751 -0.774597  0.263068  0.123815\n",
              "1      1.0 -0.377964 -0.774597 -0.253501  0.461756\n",
              "2     -1.0 -0.377964  1.290994 -1.975398 -1.530933\n",
              "3     -1.0 -0.377964  1.290994  0.052614 -1.111420\n",
              "4      1.0 -0.377964 -0.774597  1.640585  1.720297\n",
              "5     -1.0 -0.377964  1.290994 -0.081312 -0.167514\n",
              "6      1.0 -0.377964 -0.774597  0.951826  0.986148\n",
              "7      1.0 -0.377964 -0.774597 -0.597881 -0.482149"
            ]
          },
          "metadata": {
            "tags": []
          }
        }
      ]
    },
    {
      "cell_type": "code",
      "metadata": {
        "id": "j9WBICgxNE7G"
      },
      "source": [
        "result_X_test = pd.DataFrame({'Column1': X_test[:, 0], 'Column2': X_test[:, 1],'Column3': X_test[:, 2], 'Column4': X_test[:, 3],'Column5': X_test[:, 4]})"
      ],
      "execution_count": 28,
      "outputs": []
    },
    {
      "cell_type": "code",
      "metadata": {
        "colab": {
          "base_uri": "https://localhost:8080/",
          "height": 111
        },
        "id": "XqD0NeA5NHBD",
        "outputId": "5969e411-8fc8-48b2-a4a5-5686e7fc7817"
      },
      "source": [
        "display(result_X_test)"
      ],
      "execution_count": 29,
      "outputs": [
        {
          "output_type": "display_data",
          "data": {
            "text/html": [
              "<div>\n",
              "<style scoped>\n",
              "    .dataframe tbody tr th:only-of-type {\n",
              "        vertical-align: middle;\n",
              "    }\n",
              "\n",
              "    .dataframe tbody tr th {\n",
              "        vertical-align: top;\n",
              "    }\n",
              "\n",
              "    .dataframe thead th {\n",
              "        text-align: right;\n",
              "    }\n",
              "</style>\n",
              "<table border=\"1\" class=\"dataframe\">\n",
              "  <thead>\n",
              "    <tr style=\"text-align: right;\">\n",
              "      <th></th>\n",
              "      <th>Column1</th>\n",
              "      <th>Column2</th>\n",
              "      <th>Column3</th>\n",
              "      <th>Column4</th>\n",
              "      <th>Column5</th>\n",
              "    </tr>\n",
              "  </thead>\n",
              "  <tbody>\n",
              "    <tr>\n",
              "      <th>0</th>\n",
              "      <td>-1.0</td>\n",
              "      <td>2.645751</td>\n",
              "      <td>-0.774597</td>\n",
              "      <td>-1.458829</td>\n",
              "      <td>-0.901663</td>\n",
              "    </tr>\n",
              "    <tr>\n",
              "      <th>1</th>\n",
              "      <td>-1.0</td>\n",
              "      <td>2.645751</td>\n",
              "      <td>-0.774597</td>\n",
              "      <td>1.984964</td>\n",
              "      <td>2.139811</td>\n",
              "    </tr>\n",
              "  </tbody>\n",
              "</table>\n",
              "</div>"
            ],
            "text/plain": [
              "   Column1   Column2   Column3   Column4   Column5\n",
              "0     -1.0  2.645751 -0.774597 -1.458829 -0.901663\n",
              "1     -1.0  2.645751 -0.774597  1.984964  2.139811"
            ]
          },
          "metadata": {
            "tags": []
          }
        }
      ]
    }
  ]
}
