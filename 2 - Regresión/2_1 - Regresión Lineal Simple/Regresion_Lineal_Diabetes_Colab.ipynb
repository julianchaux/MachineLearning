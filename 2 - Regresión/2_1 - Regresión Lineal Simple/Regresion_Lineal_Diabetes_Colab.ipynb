{
  "nbformat": 4,
  "nbformat_minor": 0,
  "metadata": {
    "kernelspec": {
      "display_name": "Python 3",
      "language": "python",
      "name": "python3"
    },
    "language_info": {
      "codemirror_mode": {
        "name": "ipython",
        "version": 3
      },
      "file_extension": ".py",
      "mimetype": "text/x-python",
      "name": "python",
      "nbconvert_exporter": "python",
      "pygments_lexer": "ipython3",
      "version": "3.8.5"
    },
    "colab": {
      "name": "Regresion_Lineal_Diabetes_Colab.ipynb",
      "provenance": [],
      "collapsed_sections": [],
      "include_colab_link": true
    }
  },
  "cells": [
    {
      "cell_type": "markdown",
      "metadata": {
        "id": "view-in-github",
        "colab_type": "text"
      },
      "source": [
        "<a href=\"https://colab.research.google.com/github/julianchaux/MachineLearning/blob/master/2%20-%20Regresi%C3%B3n/2_1%20-%20Regresi%C3%B3n%20Lineal%20Simple/Regresion_Lineal_Diabetes_Colab.ipynb\" target=\"_parent\"><img src=\"https://colab.research.google.com/assets/colab-badge.svg\" alt=\"Open In Colab\"/></a>"
      ]
    },
    {
      "cell_type": "markdown",
      "metadata": {
        "id": "TwNdDUmuNk6N"
      },
      "source": [
        "# Regresión lineal de la Diabetes"
      ]
    },
    {
      "cell_type": "code",
      "metadata": {
        "id": "jXBbXoZJNk6Q"
      },
      "source": [
        "import matplotlib.pyplot as plt\n",
        "import numpy as np\n",
        "from sklearn import datasets\n",
        "from sklearn.linear_model import LinearRegression\n",
        "from sklearn.metrics import mean_squared_error, r2_score\n",
        "from sklearn.model_selection import train_test_split"
      ],
      "execution_count": 1,
      "outputs": []
    },
    {
      "cell_type": "code",
      "metadata": {
        "colab": {
          "base_uri": "https://localhost:8080/"
        },
        "id": "Uc_5YWhMNk6Q",
        "outputId": "ada2ff41-61d3-4bfb-cc48-8c37b12907f4"
      },
      "source": [
        "!python --version"
      ],
      "execution_count": 2,
      "outputs": [
        {
          "output_type": "stream",
          "text": [
            "Python 3.7.10\n"
          ],
          "name": "stdout"
        }
      ]
    },
    {
      "cell_type": "markdown",
      "metadata": {
        "id": "fpPiPLyPNk6R"
      },
      "source": [
        "### Importamos el dataset de la librería datasets de sklearn"
      ]
    },
    {
      "cell_type": "code",
      "metadata": {
        "id": "FoTDYmzVNk6R"
      },
      "source": [
        "diabetes = datasets.load_diabetes()"
      ],
      "execution_count": 3,
      "outputs": []
    },
    {
      "cell_type": "code",
      "metadata": {
        "colab": {
          "base_uri": "https://localhost:8080/"
        },
        "id": "HQNa3QXwNk6R",
        "outputId": "75e7048a-35e1-46cf-cd67-4732f63f84e5"
      },
      "source": [
        "type(diabetes)"
      ],
      "execution_count": 4,
      "outputs": [
        {
          "output_type": "execute_result",
          "data": {
            "text/plain": [
              "sklearn.utils.Bunch"
            ]
          },
          "metadata": {
            "tags": []
          },
          "execution_count": 4
        }
      ]
    },
    {
      "cell_type": "code",
      "metadata": {
        "colab": {
          "base_uri": "https://localhost:8080/"
        },
        "id": "2RSjjtWzNk6S",
        "outputId": "39e8d0bb-34cc-4ee7-ea4d-744ffa513788"
      },
      "source": [
        "type(diabetes.data)"
      ],
      "execution_count": 5,
      "outputs": [
        {
          "output_type": "execute_result",
          "data": {
            "text/plain": [
              "numpy.ndarray"
            ]
          },
          "metadata": {
            "tags": []
          },
          "execution_count": 5
        }
      ]
    },
    {
      "cell_type": "code",
      "metadata": {
        "colab": {
          "base_uri": "https://localhost:8080/"
        },
        "id": "JIiFrkfONk6S",
        "outputId": "b08eabc4-001a-44fd-a9bc-27147e1d04a3"
      },
      "source": [
        "diabetes.data.shape"
      ],
      "execution_count": 6,
      "outputs": [
        {
          "output_type": "execute_result",
          "data": {
            "text/plain": [
              "(442, 10)"
            ]
          },
          "metadata": {
            "tags": []
          },
          "execution_count": 6
        }
      ]
    },
    {
      "cell_type": "markdown",
      "metadata": {
        "id": "JEwPCXk0Nk6S"
      },
      "source": [
        "### Establecemos las variables independientes *x* y dependientes *y*"
      ]
    },
    {
      "cell_type": "code",
      "metadata": {
        "id": "lxfq1uC2Nk6T"
      },
      "source": [
        "X = diabetes.data[:,np.newaxis, 2]"
      ],
      "execution_count": 7,
      "outputs": []
    },
    {
      "cell_type": "code",
      "metadata": {
        "id": "79Gyz_kpNk6T"
      },
      "source": [
        "y = diabetes.target"
      ],
      "execution_count": 8,
      "outputs": []
    },
    {
      "cell_type": "markdown",
      "metadata": {
        "id": "u8ro7dL1Nk6T"
      },
      "source": [
        "### Dividir el data set en conjunto de entrenamiento y conjunto de testing"
      ]
    },
    {
      "cell_type": "code",
      "metadata": {
        "id": "oo5HiThfNk6T"
      },
      "source": [
        "X_train, X_test, y_train, y_test = train_test_split(X, y, test_size = 0.2, random_state = 0)"
      ],
      "execution_count": 9,
      "outputs": []
    },
    {
      "cell_type": "markdown",
      "metadata": {
        "id": "vi_a7OlJNk6U"
      },
      "source": [
        "### Crear el modelo de Regresión Lineal Simple con el conjunto de datos de entrenamiento"
      ]
    },
    {
      "cell_type": "code",
      "metadata": {
        "colab": {
          "base_uri": "https://localhost:8080/"
        },
        "id": "W-58dWwgNk6U",
        "outputId": "3d8ca252-3bb1-4059-c8bc-920dc2b7a314"
      },
      "source": [
        "modelo = LinearRegression()\n",
        "modelo.fit(X_train, y_train)"
      ],
      "execution_count": 10,
      "outputs": [
        {
          "output_type": "execute_result",
          "data": {
            "text/plain": [
              "LinearRegression(copy_X=True, fit_intercept=True, n_jobs=None, normalize=False)"
            ]
          },
          "metadata": {
            "tags": []
          },
          "execution_count": 10
        }
      ]
    },
    {
      "cell_type": "code",
      "metadata": {
        "colab": {
          "base_uri": "https://localhost:8080/"
        },
        "id": "20bLlij9Nk6U",
        "outputId": "2be4633a-c594-422b-e9ce-6c8fb70bab3b"
      },
      "source": [
        "modelo.coef_"
      ],
      "execution_count": 11,
      "outputs": [
        {
          "output_type": "execute_result",
          "data": {
            "text/plain": [
              "array([981.65543614])"
            ]
          },
          "metadata": {
            "tags": []
          },
          "execution_count": 11
        }
      ]
    },
    {
      "cell_type": "code",
      "metadata": {
        "colab": {
          "base_uri": "https://localhost:8080/"
        },
        "id": "SJ8ubGmSNk6U",
        "outputId": "b83d86c6-8bcd-40c0-9c92-3f061c9aa15f"
      },
      "source": [
        "modelo.intercept_"
      ],
      "execution_count": 12,
      "outputs": [
        {
          "output_type": "execute_result",
          "data": {
            "text/plain": [
              "152.28824927379625"
            ]
          },
          "metadata": {
            "tags": []
          },
          "execution_count": 12
        }
      ]
    },
    {
      "cell_type": "markdown",
      "metadata": {
        "id": "XDrNDhlUNk6U"
      },
      "source": [
        "### El modelo de regresión lineal creado es:"
      ]
    },
    {
      "cell_type": "markdown",
      "metadata": {
        "id": "NsTshzNaNk6V"
      },
      "source": [
        "$$\\tilde{y} = 981.65543614\\cdot x + 152.28824927379625 $$"
      ]
    },
    {
      "cell_type": "markdown",
      "metadata": {
        "id": "B0lw9MPCNk6V"
      },
      "source": [
        "### Graficar los datos de entrenamiento junto a la recta creada en el modelo de regresión lineal"
      ]
    },
    {
      "cell_type": "code",
      "metadata": {
        "colab": {
          "base_uri": "https://localhost:8080/",
          "height": 265
        },
        "id": "nIrwY2VcNk6V",
        "outputId": "ecad4a53-37b8-48ae-9a4a-98381091f620"
      },
      "source": [
        "plt.scatter(X_train, y_train, color = 'black')\n",
        "plt.plot(X_train, modelo.predict(X_train), color='blue', linewidth=3)\n",
        "plt.show()"
      ],
      "execution_count": 13,
      "outputs": [
        {
          "output_type": "display_data",
          "data": {
            "image/png": "[encoded data removed]",
            "text/plain": [
              "<Figure size 432x288 with 1 Axes>"
            ]
          },
          "metadata": {
            "tags": [],
            "needs_background": "light"
          }
        }
      ]
    },
    {
      "cell_type": "markdown",
      "metadata": {
        "id": "Va31bfDGNk6V"
      },
      "source": [
        "### Cálculo del error cuadrático medio (MSE) de los *y_train* respecto a los *y* del modelo de predicción"
      ]
    },
    {
      "cell_type": "markdown",
      "metadata": {
        "id": "iDZJRTaoNk6V"
      },
      "source": [
        "$$MSE = \\frac{\\sum_{i=1}^n(y_i - \\tilde{y_i})^2}{n}$$"
      ]
    },
    {
      "cell_type": "code",
      "metadata": {
        "colab": {
          "base_uri": "https://localhost:8080/"
        },
        "id": "fl-pB4zVNk6W",
        "outputId": "083ce777-f97c-4975-c3a2-140691e725b9"
      },
      "source": [
        "mean_squared_error(y_train, modelo.predict(X_train))"
      ],
      "execution_count": 14,
      "outputs": [
        {
          "output_type": "execute_result",
          "data": {
            "text/plain": [
              "3827.8186984113813"
            ]
          },
          "metadata": {
            "tags": []
          },
          "execution_count": 14
        }
      ]
    },
    {
      "cell_type": "markdown",
      "metadata": {
        "id": "QJdG6Z_uNk6W"
      },
      "source": [
        "### Cálculo del coeficiente de determinación (r^2) de los *y_train* respecto a los *y* del modelo de predicción"
      ]
    },
    {
      "cell_type": "code",
      "metadata": {
        "colab": {
          "base_uri": "https://localhost:8080/"
        },
        "id": "uHd2UEWrNk6W",
        "outputId": "d1573d2b-c79b-4098-e0a0-f87fe253d790"
      },
      "source": [
        "r2_score(y_train, modelo.predict(X_train))"
      ],
      "execution_count": 15,
      "outputs": [
        {
          "output_type": "execute_result",
          "data": {
            "text/plain": [
              "0.3756308132776308"
            ]
          },
          "metadata": {
            "tags": []
          },
          "execution_count": 15
        }
      ]
    },
    {
      "cell_type": "markdown",
      "metadata": {
        "id": "fbOSfjWPNk6W"
      },
      "source": [
        "## Testing"
      ]
    },
    {
      "cell_type": "code",
      "metadata": {
        "id": "6FFmKqgRNk6W"
      },
      "source": [
        "y_pred = modelo.predict(X_test)"
      ],
      "execution_count": 16,
      "outputs": []
    },
    {
      "cell_type": "markdown",
      "metadata": {
        "id": "ZL5wkfdZNk6X"
      },
      "source": [
        "### Cálculo del error cuadrático medio (MSE) de los *y_test* respecto a los *y* del modelo de predicción"
      ]
    },
    {
      "cell_type": "code",
      "metadata": {
        "colab": {
          "base_uri": "https://localhost:8080/"
        },
        "id": "p03C559lNk6X",
        "outputId": "fd5ed8a5-2fd0-492f-8663-b7f5e1b2c2f7"
      },
      "source": [
        "mean_squared_error(y_test, y_pred)"
      ],
      "execution_count": 17,
      "outputs": [
        {
          "output_type": "execute_result",
          "data": {
            "text/plain": [
              "4150.680189329983"
            ]
          },
          "metadata": {
            "tags": []
          },
          "execution_count": 17
        }
      ]
    },
    {
      "cell_type": "markdown",
      "metadata": {
        "id": "eB3goMTWNk6X"
      },
      "source": [
        "### Cálculo del coeficiente de determinación (r^2) de los *y_test* respecto a los *y* del modelo de predicción"
      ]
    },
    {
      "cell_type": "code",
      "metadata": {
        "colab": {
          "base_uri": "https://localhost:8080/"
        },
        "id": "qjyHj5a1Nk6X",
        "outputId": "82f196cd-b35f-435f-d15b-47d43ea5b6a3"
      },
      "source": [
        "r2_score(y_test, y_pred)"
      ],
      "execution_count": 18,
      "outputs": [
        {
          "output_type": "execute_result",
          "data": {
            "text/plain": [
              "0.19057346847560164"
            ]
          },
          "metadata": {
            "tags": []
          },
          "execution_count": 18
        }
      ]
    },
    {
      "cell_type": "code",
      "metadata": {
        "colab": {
          "base_uri": "https://localhost:8080/",
          "height": 265
        },
        "id": "Fk-DIeo-Nk6X",
        "outputId": "15308730-bd03-4bd0-9cf1-38e6e695ac8d"
      },
      "source": [
        "plt.scatter(X_train, y_train, color = 'black')\n",
        "plt.scatter(X_test, y_test, color = \"red\")\n",
        "plt.plot(X_train, modelo.predict(X_train), color='blue', linewidth=3)\n",
        "plt.show()"
      ],
      "execution_count": 19,
      "outputs": [
        {
          "output_type": "display_data",
          "data": {
            "image/png": "[encoded data removed]",
            "text/plain": [
              "<Figure size 432x288 with 1 Axes>"
            ]
          },
          "metadata": {
            "tags": [],
            "needs_background": "light"
          }
        }
      ]
    }
  ]
}